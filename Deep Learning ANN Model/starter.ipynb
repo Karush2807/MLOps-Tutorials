{
 "cells": [
  {
   "cell_type": "markdown",
   "metadata": {},
   "source": [
    "### **basic workfloww: compare runs, choose a model, deploy it to rest api**\n",
    "\n",
    "- in this quickstart we will be:\n",
    "\n",
    "1. run a hyperparameter swap on trainign script\n",
    "2. will compare results of run in mlflow ui\n",
    "3. choose best run and register it as a model\n",
    "4. deploy model to rest ap\n",
    "5.  build a container image suitable for deployment to cloud platform\n",
    "6. will be perofrming mulitple experiments"
   ]
  },
  {
   "cell_type": "markdown",
   "metadata": {},
   "source": []
  }
 ],
 "metadata": {
  "kernelspec": {
   "display_name": "myenv",
   "language": "python",
   "name": "python3"
  },
  "language_info": {
   "name": "python",
   "version": "3.10.16"
  }
 },
 "nbformat": 4,
 "nbformat_minor": 2
}
