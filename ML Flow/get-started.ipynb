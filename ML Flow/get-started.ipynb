{
 "cells": [
  {
   "cell_type": "markdown",
   "metadata": {},
   "source": [
    "## **MLFlow : tracking server**"
   ]
  },
  {
   "cell_type": "code",
   "execution_count": 1,
   "metadata": {},
   "outputs": [],
   "source": [
    "import mlflow"
   ]
  },
  {
   "cell_type": "code",
   "execution_count": 2,
   "metadata": {},
   "outputs": [],
   "source": [
    "mlflow.set_tracking_uri(\"http://127.0.0.1:5000\") #jhn remote repo hogi hmari whn ka url daldo"
   ]
  },
  {
   "cell_type": "code",
   "execution_count": 4,
   "metadata": {},
   "outputs": [
    {
     "name": "stdout",
     "output_type": "stream",
     "text": [
      "🏃 View run handsome-toad-381 at: http://127.0.0.1:5000/#/experiments/294135646154840440/runs/9ace336bf868474d9f8e4bf33f5600b8\n",
      "🧪 View experiment at: http://127.0.0.1:5000/#/experiments/294135646154840440\n"
     ]
    }
   ],
   "source": [
    "mlflow.set_experiment(\"check localhost connection\")\n",
    "with mlflow.start_run():\n",
    "    mlflow.log_metric(\"test\", 1)\n",
    "    mlflow.log_metric(\"arush\", 2)\n",
    "    mlflow.log_metric(\"luv\", 3)\n",
    "    mlflow.log_metric(\"zoro\", 4)\n",
    "\n",
    "#yhn pr run wise-stoat-75 hmara exp name hoga"
   ]
  },
  {
   "cell_type": "code",
   "execution_count": 5,
   "metadata": {},
   "outputs": [
    {
     "name": "stdout",
     "output_type": "stream",
     "text": [
      "🏃 View run tasteful-ram-533 at: http://127.0.0.1:5000/#/experiments/294135646154840440/runs/c2ad21eb203c4896aee058b154f2a05a\n",
      "🧪 View experiment at: http://127.0.0.1:5000/#/experiments/294135646154840440\n"
     ]
    }
   ],
   "source": [
    "mlflow.set_experiment(\"check localhost connection\")\n",
    "with mlflow.start_run():\n",
    "    mlflow.log_metric(\"test1\", 1)\n",
    "    mlflow.log_metric(\"arush2\", 2)\n",
    "    mlflow.log_metric(\"luv4\", 3)\n",
    "    mlflow.log_metric(\"zoro0\", 4)\n",
    "\n",
    "#yhn pr run wise-stoat-75 hmara exp name hoga"
   ]
  },
  {
   "cell_type": "code",
   "execution_count": null,
   "metadata": {},
   "outputs": [],
   "source": []
  }
 ],
 "metadata": {
  "kernelspec": {
   "display_name": "myenv",
   "language": "python",
   "name": "python3"
  },
  "language_info": {
   "codemirror_mode": {
    "name": "ipython",
    "version": 3
   },
   "file_extension": ".py",
   "mimetype": "text/x-python",
   "name": "python",
   "nbconvert_exporter": "python",
   "pygments_lexer": "ipython3",
   "version": "3.10.16"
  }
 },
 "nbformat": 4,
 "nbformat_minor": 2
}
